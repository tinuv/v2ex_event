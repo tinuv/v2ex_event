{
 "cells": [
  {
   "cell_type": "markdown",
   "metadata": {},
   "source": [
    "# 1. 获取所有的回复"
   ]
  },
  {
   "cell_type": "markdown",
   "metadata": {},
   "source": [
    "## 1.1 定义爬虫变量"
   ]
  },
  {
   "cell_type": "code",
   "execution_count": null,
   "metadata": {},
   "outputs": [],
   "source": [
    "url = \"https://www.v2ex.com/t/954786\"\n",
    "page_count = 5"
   ]
  },
  {
   "cell_type": "markdown",
   "metadata": {},
   "source": [
    "## 1.2 开始爬取"
   ]
  },
  {
   "cell_type": "code",
   "execution_count": null,
   "metadata": {},
   "outputs": [],
   "source": [
    "import requests\n",
    "from bs4 import BeautifulSoup\n",
    "\n",
    "\n",
    "def has_id_and_class_cell(tag):\n",
    "    return tag.has_attr('id') and 'cell' in tag.get('class', [])\n",
    "\n",
    "\n",
    "result = {}\n",
    "count = 0\n",
    "\n",
    "for i in range(1, page_count+1):\n",
    "    response = requests.get(url+\"?p={}\".format(i))\n",
    "    soup = BeautifulSoup(response.text, 'html.parser')\n",
    "    # 回复区域\n",
    "    reply_area = soup.select(\".box\")[4]\n",
    "    # 获取本页所有的回复\n",
    "    all_reples = reply_area.find_all(has_id_and_class_cell)\n",
    "    for reply in all_reples:\n",
    "        username = reply.a.text\n",
    "        content = reply.select(\".reply_content\")[0].text\n",
    "        count += 1\n",
    "        if not result.get(username):\n",
    "            result[username] = content\n",
    "        else:\n",
    "            print(\"{}:{}与{}:{}冲突，将使用后者邮件抽奖\".format(\n",
    "                username, result[username], username, content))\n",
    "            result[username] = content\n"
   ]
  },
  {
   "cell_type": "markdown",
   "metadata": {},
   "source": [
    "## 1.3 检查回复数量"
   ]
  },
  {
   "cell_type": "code",
   "execution_count": null,
   "metadata": {},
   "outputs": [],
   "source": [
    "print(\"回复数量: {}\".format(count))\n",
    "print(\"用户名去重后数量: {}\".format(len(result)))"
   ]
  },
  {
   "cell_type": "markdown",
   "metadata": {},
   "source": [
    "## 1.4 手动修正"
   ]
  },
  {
   "cell_type": "code",
   "execution_count": null,
   "metadata": {},
   "outputs": [],
   "source": [
    "print(\"回复数量: {}\".format(count))\n",
    "print(\"用户名去重后数量: {}\".format(len(result)))"
   ]
  },
  {
   "cell_type": "markdown",
   "metadata": {},
   "source": [
    "# 2. 提取电子邮件"
   ]
  },
  {
   "cell_type": "markdown",
   "metadata": {},
   "source": [
    "## 2.1 直接提取email"
   ]
  },
  {
   "cell_type": "code",
   "execution_count": null,
   "metadata": {},
   "outputs": [],
   "source": [
    "import re\n",
    "\n",
    "email_result = {}\n",
    "email_pattern = r'\\b[A-Za-z0-9._%+-]+@[A-Za-z0-9.-]+\\.[A-Z|a-z]{2,}\\b'\n",
    "\n",
    "for key, value in result.items():\n",
    "    matches = re.findall(email_pattern, value)\n",
    "    if len(matches) > 0:\n",
    "        email_result[key] = matches[0]\n",
    "\n",
    "print(email_result)"
   ]
  },
  {
   "cell_type": "markdown",
   "metadata": {},
   "source": [
    "## 2.2 从Base64获取email"
   ]
  },
  {
   "cell_type": "code",
   "execution_count": null,
   "metadata": {},
   "outputs": [],
   "source": [
    "import base64\n",
    "\n",
    "base64_pattern = r'[A-Za-z0-9+/=]+'\n",
    "exception_count = 0\n",
    "success_count = 0\n",
    "total_count = 0\n",
    "\n",
    "for key, value in result.items():\n",
    "    total_count+=1\n",
    "    try:\n",
    "        matches = re.findall(r'[A-Za-z0-9+/=]+', value)\n",
    "        base64_string = \"\"\n",
    "        if len(matches) > 0:\n",
    "            base64_string = matches[0]\n",
    "        else:\n",
    "            base64_string = value\n",
    "        bytes = base64.b64decode(base64_string)\n",
    "        string = bytes.decode(\"utf-8\")\n",
    "        if len(re.findall(email_pattern, string)) > 0:\n",
    "            email_result[key] = string\n",
    "            success_count+=1\n",
    "        else:\n",
    "            print(\"{}的回复内容{}的解析值{}不符合email的格式-请手动修正\".format(key, value, string))\n",
    "            exception_count+=1\n",
    "    except ValueError as e:\n",
    "        print(\"{}的回复内容{}解析失败-请手动修正\".format(key, value))\n",
    "        exception_count+=1\n"
   ]
  },
  {
   "cell_type": "markdown",
   "metadata": {},
   "source": [
    "## 2.3 手动修正"
   ]
  },
  {
   "cell_type": "code",
   "execution_count": null,
   "metadata": {},
   "outputs": [],
   "source": [
    "def decode(base64_string):\n",
    "    bytes = base64.b64decode(base64_string)\n",
    "    return bytes.decode(\"utf-8\")\n",
    "\n",
    "email_result[\"Rany\"]=\"rany8864@gmail.com\"\n",
    "email_result[\"XiaTing19991222\"]=\"1490114698@qq.com\"\n",
    "email_result[\"xiaoshagua\"]=\"173265155@qq.com\"\n",
    "email_result[\"craiet\"]=\"cooloyty@gmail.com\"\n",
    "email_result[\"ihhhkz\"]=\"1427694267@qq.com\"\n",
    "email_result[\"mtdlr\"]=\"2421654504@qq.com\"\n",
    "email_result[\"Xyg12133617\"]=\"1272403736@qq.com\"\n",
    "\n"
   ]
  },
  {
   "cell_type": "markdown",
   "metadata": {},
   "source": [
    "## 2.4 打印最终结果"
   ]
  },
  {
   "cell_type": "code",
   "execution_count": null,
   "metadata": {},
   "outputs": [],
   "source": [
    "print(\"success_count: {}\".format(success_count))\n",
    "print(\"exception_count: {}\".format(exception_count))\n",
    "print(\"success_count+exception_count: {}\".format(success_count+exception_count))\n",
    "print(\"total_count: {}\".format(total_count))\n",
    "for key, value in email_result.items():\n",
    "    print(\"{}:{}\".format(key, value))"
   ]
  },
  {
   "cell_type": "markdown",
   "metadata": {},
   "source": [
    "# 3. 抽奖"
   ]
  },
  {
   "cell_type": "code",
   "execution_count": null,
   "metadata": {},
   "outputs": [],
   "source": [
    "import random\n",
    "\n",
    "keys = random.sample(list(email_result), 40)\n",
    "code = []\n",
    "\n",
    "with open('/Users/tinuv/Developer/Jupyter/兑换码.txt', 'r') as file:\n",
    "    for line in file:\n",
    "        code.append(line)\n",
    "\n",
    "final_result = {key: email_result[key] for key in keys}\n",
    "count = 0\n",
    "\n",
    "for key, value in final_result.items():\n",
    "    line = \"{}:{}:{}\".format(key, value, code[count])\n",
    "    count += 1\n",
    "    with open('中奖名单1.txt', 'a') as f:\n",
    "        f.write(\"{}:{}{}\".format(key, value,\"\\n\"))\n",
    "    with open('中奖名单_带兑换码.txt', 'a') as f:\n",
    "        f.write(line)\n",
    "    \n"
   ]
  },
  {
   "cell_type": "markdown",
   "metadata": {},
   "source": [
    "# 4. 发送邮件"
   ]
  },
  {
   "cell_type": "code",
   "execution_count": null,
   "metadata": {},
   "outputs": [],
   "source": [
    "import os\n",
    "import smtplib\n",
    "from email.mime.multipart import MIMEMultipart\n",
    "from email.mime.text import MIMEText\n",
    "\n",
    "username = os.environ.get('GMAIL_EMAIL')\n",
    "password = os.environ.get('GMAIL_PASSWORD')\n",
    "\n",
    "server = smtplib.SMTP('smtp.gmail.com', 587)\n",
    "server.starttls()\n",
    "server.login(username, password)\n",
    "\n",
    "with open('/Users/tinuv/Developer/Jupyter/中奖名单_带兑换码.txt', 'r') as file:\n",
    "    for line in file:\n",
    "        try:\n",
    "            username = line.split(\":\")[0]\n",
    "            email = line.split(\":\")[1]\n",
    "            code = line.split(\":\")[2]\n",
    "            # 创建邮件对象\n",
    "            msg = MIMEMultipart()\n",
    "            msg['From'] = username\n",
    "            msg['To'] = email\n",
    "            msg['Subject'] = 'DLPlay兑换码(V2EX抽奖奖品)'\n",
    "\n",
    "            body =\"\"\"\n",
    "            V2EX用户:{},🎉恭喜🎉你在DLPlay抽奖活动(https://www.v2ex.com/t/954786)中幸运中奖!\n",
    "            DLPlay兑换码:{}\n",
    "            请在手机的app store中登录与Apple TV相同账号中兑换,然后在Apple TV下载本软件。\n",
    "            请注意不要在国区兑换(国区兑换需要卡bug)\n",
    "            \"\"\".format(username,code)\n",
    "            msg.attach(MIMEText(body, 'plain'))\n",
    "            text = msg.as_string()\n",
    "            server.sendmail(username, email, text)\n",
    "        except:\n",
    "            print(\"用户{}发送邮件失败，请人工核对!\".format(username))\n",
    "# 关闭连接\n",
    "server.quit()\n",
    "\n",
    "\n",
    "\n",
    "\n",
    "\n",
    "\n"
   ]
  }
 ],
 "metadata": {
  "kernelspec": {
   "display_name": "Python 3",
   "language": "python",
   "name": "python3"
  },
  "language_info": {
   "codemirror_mode": {
    "name": "ipython",
    "version": 3
   },
   "file_extension": ".py",
   "mimetype": "text/x-python",
   "name": "python",
   "nbconvert_exporter": "python",
   "pygments_lexer": "ipython3",
   "version": "3.9.6"
  },
  "orig_nbformat": 4
 },
 "nbformat": 4,
 "nbformat_minor": 2
}
